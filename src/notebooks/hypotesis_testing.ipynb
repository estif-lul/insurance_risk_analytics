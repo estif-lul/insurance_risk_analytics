{
 "cells": [
  {
   "cell_type": "markdown",
   "id": "06f8d855",
   "metadata": {},
   "source": [
    "### Import Libraries\n",
    "\n",
    "Import the necessary libraries for data manipulation and statistical hypothesis testing."
   ]
  },
  {
   "cell_type": "code",
   "execution_count": null,
   "id": "ee857cb8",
   "metadata": {},
   "outputs": [],
   "source": [
    "import pandas as pd\n",
    "from scipy.stats import chi2_contingency, ttest_ind, f_oneway"
   ]
  },
  {
   "cell_type": "markdown",
   "id": "d2e33e08",
   "metadata": {},
   "source": [
    "### Load Cleaned Data\n",
    "\n",
    "Load the cleaned insurance dataset from a Parquet file into a pandas DataFrame."
   ]
  },
  {
   "cell_type": "code",
   "execution_count": 2,
   "id": "112e66c9",
   "metadata": {},
   "outputs": [],
   "source": [
    "df = pd.read_parquet('../../data/clean_data.parquet')"
   ]
  },
  {
   "cell_type": "markdown",
   "id": "13610076",
   "metadata": {},
   "source": [
    "### Feature Engineering and Stratified Sampling\n",
    "\n",
    "Create a binary `HasClaim` column, select relevant columns, convert categorical columns to the appropriate dtype, and draw a stratified sample by transaction month to reduce seasonality bias."
   ]
  },
  {
   "cell_type": "code",
   "execution_count": 7,
   "id": "81d3892c",
   "metadata": {},
   "outputs": [
    {
     "name": "stderr",
     "output_type": "stream",
     "text": [
      "/tmp/ipykernel_503715/719567470.py:5: SettingWithCopyWarning: \n",
      "A value is trying to be set on a copy of a slice from a DataFrame.\n",
      "Try using .loc[row_indexer,col_indexer] = value instead\n",
      "\n",
      "See the caveats in the documentation: https://pandas.pydata.org/pandas-docs/stable/user_guide/indexing.html#returning-a-view-versus-a-copy\n",
      "  df_filtered['Province'] = df_filtered['Province'].astype('category')\n",
      "/tmp/ipykernel_503715/719567470.py:6: SettingWithCopyWarning: \n",
      "A value is trying to be set on a copy of a slice from a DataFrame.\n",
      "Try using .loc[row_indexer,col_indexer] = value instead\n",
      "\n",
      "See the caveats in the documentation: https://pandas.pydata.org/pandas-docs/stable/user_guide/indexing.html#returning-a-view-versus-a-copy\n",
      "  df_filtered['Gender'] = df_filtered['Gender'].astype('category')\n"
     ]
    }
   ],
   "source": [
    "df['HasClaim'] = df['TotalClaims'].apply(lambda x: 1 if x > 0 else 0)\n",
    "df_filtered = df[['Province', 'PostalCode', 'Gender', 'TotalClaims', 'TotalPremium', 'HasClaim']]\n",
    "\n",
    "# Convert categorical columns to category dtype\n",
    "df_filtered['Province'] = df_filtered['Province'].astype('category')\n",
    "df_filtered['Gender'] = df_filtered['Gender'].astype('category')\n",
    "\n",
    "# Stratify sample by month to neutralize seasonality bias\n",
    "df_sample = df.groupby('TransactionMonth').sample(frac=0.3, random_state=42)"
   ]
  },
  {
   "cell_type": "markdown",
   "id": "85330cb2",
   "metadata": {},
   "source": [
    "### Preview Sampled Data\n",
    "\n",
    "Display the first few rows of the sampled DataFrame to verify the sampling and preprocessing steps."
   ]
  },
  {
   "cell_type": "code",
   "execution_count": 37,
   "id": "9c9d82b9",
   "metadata": {},
   "outputs": [
    {
     "data": {
      "text/html": [
       "<div>\n",
       "<style scoped>\n",
       "    .dataframe tbody tr th:only-of-type {\n",
       "        vertical-align: middle;\n",
       "    }\n",
       "\n",
       "    .dataframe tbody tr th {\n",
       "        vertical-align: top;\n",
       "    }\n",
       "\n",
       "    .dataframe thead th {\n",
       "        text-align: right;\n",
       "    }\n",
       "</style>\n",
       "<table border=\"1\" class=\"dataframe\">\n",
       "  <thead>\n",
       "    <tr style=\"text-align: right;\">\n",
       "      <th></th>\n",
       "      <th>Unnamed: 0</th>\n",
       "      <th>UnderwrittenCoverID</th>\n",
       "      <th>PolicyID</th>\n",
       "      <th>TransactionMonth</th>\n",
       "      <th>IsVATRegistered</th>\n",
       "      <th>Citizenship</th>\n",
       "      <th>LegalType</th>\n",
       "      <th>Title</th>\n",
       "      <th>Language</th>\n",
       "      <th>Bank</th>\n",
       "      <th>...</th>\n",
       "      <th>CoverType</th>\n",
       "      <th>CoverGroup</th>\n",
       "      <th>Section</th>\n",
       "      <th>Product</th>\n",
       "      <th>StatutoryClass</th>\n",
       "      <th>StatutoryRiskType</th>\n",
       "      <th>TotalPremium</th>\n",
       "      <th>TotalClaims</th>\n",
       "      <th>Z_Score</th>\n",
       "      <th>HasClaim</th>\n",
       "    </tr>\n",
       "  </thead>\n",
       "  <tbody>\n",
       "    <tr>\n",
       "      <th>974709</th>\n",
       "      <td>987392</td>\n",
       "      <td>179</td>\n",
       "      <td>15</td>\n",
       "      <td>2013-10-01</td>\n",
       "      <td>False</td>\n",
       "      <td>ZA</td>\n",
       "      <td>Private company</td>\n",
       "      <td>Ms</td>\n",
       "      <td>English</td>\n",
       "      <td>Standard Bank</td>\n",
       "      <td>...</td>\n",
       "      <td>Third Party</td>\n",
       "      <td>Comprehensive - Taxi</td>\n",
       "      <td>Motor Comprehensive</td>\n",
       "      <td>Mobility Metered Taxis: Monthly</td>\n",
       "      <td>Commercial</td>\n",
       "      <td>IFRS Constant</td>\n",
       "      <td>41.518110</td>\n",
       "      <td>0.0</td>\n",
       "      <td>-0.088745</td>\n",
       "      <td>0</td>\n",
       "    </tr>\n",
       "    <tr>\n",
       "      <th>942158</th>\n",
       "      <td>954451</td>\n",
       "      <td>1191</td>\n",
       "      <td>157</td>\n",
       "      <td>2013-10-01</td>\n",
       "      <td>False</td>\n",
       "      <td>ZA</td>\n",
       "      <td>Private company</td>\n",
       "      <td>Mr</td>\n",
       "      <td>English</td>\n",
       "      <td>Nedbank</td>\n",
       "      <td>...</td>\n",
       "      <td>Third Party</td>\n",
       "      <td>Comprehensive - Taxi</td>\n",
       "      <td>Motor Comprehensive</td>\n",
       "      <td>Mobility Metered Taxis: Monthly</td>\n",
       "      <td>Commercial</td>\n",
       "      <td>IFRS Constant</td>\n",
       "      <td>10.316126</td>\n",
       "      <td>0.0</td>\n",
       "      <td>-0.224244</td>\n",
       "      <td>0</td>\n",
       "    </tr>\n",
       "    <tr>\n",
       "      <th>944478</th>\n",
       "      <td>956801</td>\n",
       "      <td>183</td>\n",
       "      <td>15</td>\n",
       "      <td>2013-10-01</td>\n",
       "      <td>False</td>\n",
       "      <td>ZA</td>\n",
       "      <td>Private company</td>\n",
       "      <td>Ms</td>\n",
       "      <td>English</td>\n",
       "      <td>Standard Bank</td>\n",
       "      <td>...</td>\n",
       "      <td>Keys and Alarms</td>\n",
       "      <td>Comprehensive - Taxi</td>\n",
       "      <td>Motor Comprehensive</td>\n",
       "      <td>Mobility Metered Taxis: Monthly</td>\n",
       "      <td>Commercial</td>\n",
       "      <td>IFRS Constant</td>\n",
       "      <td>1.107131</td>\n",
       "      <td>0.0</td>\n",
       "      <td>-0.264235</td>\n",
       "      <td>0</td>\n",
       "    </tr>\n",
       "    <tr>\n",
       "      <th>985811</th>\n",
       "      <td>998554</td>\n",
       "      <td>1197</td>\n",
       "      <td>157</td>\n",
       "      <td>2013-10-01</td>\n",
       "      <td>False</td>\n",
       "      <td>ZA</td>\n",
       "      <td>Private company</td>\n",
       "      <td>Mr</td>\n",
       "      <td>English</td>\n",
       "      <td>Nedbank</td>\n",
       "      <td>...</td>\n",
       "      <td>Keys and Alarms</td>\n",
       "      <td>Comprehensive - Taxi</td>\n",
       "      <td>Motor Comprehensive</td>\n",
       "      <td>Mobility Metered Taxis: Monthly</td>\n",
       "      <td>Commercial</td>\n",
       "      <td>IFRS Constant</td>\n",
       "      <td>0.412651</td>\n",
       "      <td>0.0</td>\n",
       "      <td>-0.267251</td>\n",
       "      <td>0</td>\n",
       "    </tr>\n",
       "    <tr>\n",
       "      <th>956890</th>\n",
       "      <td>969357</td>\n",
       "      <td>185</td>\n",
       "      <td>15</td>\n",
       "      <td>2013-10-01</td>\n",
       "      <td>False</td>\n",
       "      <td>ZA</td>\n",
       "      <td>Private company</td>\n",
       "      <td>Ms</td>\n",
       "      <td>English</td>\n",
       "      <td>Standard Bank</td>\n",
       "      <td>...</td>\n",
       "      <td>Signage and Vehicle Wraps</td>\n",
       "      <td>Comprehensive - Taxi</td>\n",
       "      <td>Motor Comprehensive</td>\n",
       "      <td>Mobility Metered Taxis: Monthly</td>\n",
       "      <td>Commercial</td>\n",
       "      <td>IFRS Constant</td>\n",
       "      <td>0.553594</td>\n",
       "      <td>0.0</td>\n",
       "      <td>-0.266639</td>\n",
       "      <td>0</td>\n",
       "    </tr>\n",
       "  </tbody>\n",
       "</table>\n",
       "<p>5 rows × 55 columns</p>\n",
       "</div>"
      ],
      "text/plain": [
       "        Unnamed: 0  UnderwrittenCoverID  PolicyID TransactionMonth  \\\n",
       "974709      987392                  179        15       2013-10-01   \n",
       "942158      954451                 1191       157       2013-10-01   \n",
       "944478      956801                  183        15       2013-10-01   \n",
       "985811      998554                 1197       157       2013-10-01   \n",
       "956890      969357                  185        15       2013-10-01   \n",
       "\n",
       "        IsVATRegistered Citizenship        LegalType Title Language  \\\n",
       "974709            False          ZA  Private company    Ms  English   \n",
       "942158            False          ZA  Private company    Mr  English   \n",
       "944478            False          ZA  Private company    Ms  English   \n",
       "985811            False          ZA  Private company    Mr  English   \n",
       "956890            False          ZA  Private company    Ms  English   \n",
       "\n",
       "                 Bank  ...                  CoverType            CoverGroup  \\\n",
       "974709  Standard Bank  ...                Third Party  Comprehensive - Taxi   \n",
       "942158        Nedbank  ...                Third Party  Comprehensive - Taxi   \n",
       "944478  Standard Bank  ...            Keys and Alarms  Comprehensive - Taxi   \n",
       "985811        Nedbank  ...            Keys and Alarms  Comprehensive - Taxi   \n",
       "956890  Standard Bank  ...  Signage and Vehicle Wraps  Comprehensive - Taxi   \n",
       "\n",
       "                    Section                          Product StatutoryClass  \\\n",
       "974709  Motor Comprehensive  Mobility Metered Taxis: Monthly     Commercial   \n",
       "942158  Motor Comprehensive  Mobility Metered Taxis: Monthly     Commercial   \n",
       "944478  Motor Comprehensive  Mobility Metered Taxis: Monthly     Commercial   \n",
       "985811  Motor Comprehensive  Mobility Metered Taxis: Monthly     Commercial   \n",
       "956890  Motor Comprehensive  Mobility Metered Taxis: Monthly     Commercial   \n",
       "\n",
       "        StatutoryRiskType TotalPremium TotalClaims   Z_Score  HasClaim  \n",
       "974709      IFRS Constant    41.518110         0.0 -0.088745         0  \n",
       "942158      IFRS Constant    10.316126         0.0 -0.224244         0  \n",
       "944478      IFRS Constant     1.107131         0.0 -0.264235         0  \n",
       "985811      IFRS Constant     0.412651         0.0 -0.267251         0  \n",
       "956890      IFRS Constant     0.553594         0.0 -0.266639         0  \n",
       "\n",
       "[5 rows x 55 columns]"
      ]
     },
     "execution_count": 37,
     "metadata": {},
     "output_type": "execute_result"
    }
   ],
   "source": [
    "df_sample.head()"
   ]
  },
  {
   "cell_type": "markdown",
   "id": "fafb912f",
   "metadata": {},
   "source": [
    "### Chi-Squared Test: Province\n",
    "\n",
    "Create a contingency table for province and claim occurrence, perform a chi-squared test, and interpret the result to determine if risk differs by province."
   ]
  },
  {
   "cell_type": "code",
   "execution_count": 25,
   "id": "61b550a0",
   "metadata": {},
   "outputs": [
    {
     "name": "stdout",
     "output_type": "stream",
     "text": [
      "Reject H₀: Provinces show significant risk differences.\n",
      "Chi-squared Statistic: 57.78390174610344\n",
      "P-value: 1.2658574266104923e-09\n"
     ]
    }
   ],
   "source": [
    "# Create a contingency table for chi-squared test\n",
    "prov_contingency_table = pd.crosstab(df_sample['Province'], df_sample['HasClaim'])\n",
    "\n",
    "# Perform the chi-squared test\n",
    "prov_chi2_p, prov_p, _, _ = chi2_contingency(prov_contingency_table)\n",
    "\n",
    "# Interpret the results\n",
    "if prov_p < 0.05:\n",
    "    print(\"Reject H₀: Provinces show significant risk differences.\")\n",
    "else:\n",
    "    print(\"Fail to reject H₀: No significant risk differences among provinces.\")\n",
    "print(f\"Chi-squared Statistic: {prov_chi2_p}\")\n",
    "print(f\"P-value: {prov_p}\")"
   ]
  },
  {
   "cell_type": "markdown",
   "id": "8eca82df",
   "metadata": {},
   "source": [
    "### Show Province Contingency Table\n",
    "\n",
    "Display the contingency table used for the province chi-squared test."
   ]
  },
  {
   "cell_type": "code",
   "execution_count": 36,
   "id": "8c73dba1",
   "metadata": {},
   "outputs": [
    {
     "data": {
      "text/html": [
       "<div>\n",
       "<style scoped>\n",
       "    .dataframe tbody tr th:only-of-type {\n",
       "        vertical-align: middle;\n",
       "    }\n",
       "\n",
       "    .dataframe tbody tr th {\n",
       "        vertical-align: top;\n",
       "    }\n",
       "\n",
       "    .dataframe thead th {\n",
       "        text-align: right;\n",
       "    }\n",
       "</style>\n",
       "<table border=\"1\" class=\"dataframe\">\n",
       "  <thead>\n",
       "    <tr style=\"text-align: right;\">\n",
       "      <th>HasClaim</th>\n",
       "      <th>0</th>\n",
       "      <th>1</th>\n",
       "    </tr>\n",
       "    <tr>\n",
       "      <th>Province</th>\n",
       "      <th></th>\n",
       "      <th></th>\n",
       "    </tr>\n",
       "  </thead>\n",
       "  <tbody>\n",
       "    <tr>\n",
       "      <th>Eastern Cape</th>\n",
       "      <td>8872</td>\n",
       "      <td>14</td>\n",
       "    </tr>\n",
       "    <tr>\n",
       "      <th>Free State</th>\n",
       "      <td>2396</td>\n",
       "      <td>5</td>\n",
       "    </tr>\n",
       "    <tr>\n",
       "      <th>Gauteng</th>\n",
       "      <td>116407</td>\n",
       "      <td>396</td>\n",
       "    </tr>\n",
       "    <tr>\n",
       "      <th>KwaZulu-Natal</th>\n",
       "      <td>48778</td>\n",
       "      <td>93</td>\n",
       "    </tr>\n",
       "    <tr>\n",
       "      <th>Limpopo</th>\n",
       "      <td>7394</td>\n",
       "      <td>16</td>\n",
       "    </tr>\n",
       "    <tr>\n",
       "      <th>Mpumalanga</th>\n",
       "      <td>15888</td>\n",
       "      <td>40</td>\n",
       "    </tr>\n",
       "    <tr>\n",
       "      <th>North West</th>\n",
       "      <td>42948</td>\n",
       "      <td>102</td>\n",
       "    </tr>\n",
       "    <tr>\n",
       "      <th>Northern Cape</th>\n",
       "      <td>1890</td>\n",
       "      <td>4</td>\n",
       "    </tr>\n",
       "    <tr>\n",
       "      <th>Western Cape</th>\n",
       "      <td>50872</td>\n",
       "      <td>89</td>\n",
       "    </tr>\n",
       "  </tbody>\n",
       "</table>\n",
       "</div>"
      ],
      "text/plain": [
       "HasClaim            0    1\n",
       "Province                  \n",
       "Eastern Cape     8872   14\n",
       "Free State       2396    5\n",
       "Gauteng        116407  396\n",
       "KwaZulu-Natal   48778   93\n",
       "Limpopo          7394   16\n",
       "Mpumalanga      15888   40\n",
       "North West      42948  102\n",
       "Northern Cape    1890    4\n",
       "Western Cape    50872   89"
      ]
     },
     "execution_count": 36,
     "metadata": {},
     "output_type": "execute_result"
    }
   ],
   "source": [
    "prov_contingency_table"
   ]
  },
  {
   "cell_type": "markdown",
   "id": "8d4d5036",
   "metadata": {},
   "source": [
    "### Chi-Squared Test: Zip Code\n",
    "\n",
    "Create a contingency table for postal code and claim occurrence, perform a chi-squared test, and interpret the result to determine if risk differs by zip code."
   ]
  },
  {
   "cell_type": "code",
   "execution_count": 27,
   "id": "b34edc35",
   "metadata": {},
   "outputs": [
    {
     "name": "stdout",
     "output_type": "stream",
     "text": [
      "Fail to reject H₀: No significant risk differences among Zipcode.\n",
      "Chi-squared Statistic: 877.2255064053513\n",
      "P-value: 0.4439998280075464\n"
     ]
    }
   ],
   "source": [
    "# Create a contingency table for chi-squared test\n",
    "zip_contingency_table = pd.crosstab(df_sample['PostalCode'], df_sample['HasClaim'])\n",
    "\n",
    "# Perform the chi-squared test\n",
    "zip_chi2_p , zip_p, _, _ = chi2_contingency(zip_contingency_table)\n",
    "\n",
    "# Interpret the results\n",
    "if zip_p < 0.05:\n",
    "    print(\"Reject H₀: Provinces show significant risk differences.\")\n",
    "else:\n",
    "    print(\"Fail to reject H₀: No significant risk differences among Zipcode.\")\n",
    "print(f\"Chi-squared Statistic: {zip_chi2_p}\")\n",
    "print(f\"P-value: {zip_p}\")"
   ]
  },
  {
   "cell_type": "markdown",
   "id": "64c6395e",
   "metadata": {},
   "source": [
    "### Show Zip Code Contingency Table\n",
    "\n",
    "Display the contingency table used for the zip code chi-squared test."
   ]
  },
  {
   "cell_type": "code",
   "execution_count": 35,
   "id": "e683fcca",
   "metadata": {},
   "outputs": [
    {
     "data": {
      "text/html": [
       "<div>\n",
       "<style scoped>\n",
       "    .dataframe tbody tr th:only-of-type {\n",
       "        vertical-align: middle;\n",
       "    }\n",
       "\n",
       "    .dataframe tbody tr th {\n",
       "        vertical-align: top;\n",
       "    }\n",
       "\n",
       "    .dataframe thead th {\n",
       "        text-align: right;\n",
       "    }\n",
       "</style>\n",
       "<table border=\"1\" class=\"dataframe\">\n",
       "  <thead>\n",
       "    <tr style=\"text-align: right;\">\n",
       "      <th>HasClaim</th>\n",
       "      <th>0</th>\n",
       "      <th>1</th>\n",
       "    </tr>\n",
       "    <tr>\n",
       "      <th>PostalCode</th>\n",
       "      <th></th>\n",
       "      <th></th>\n",
       "    </tr>\n",
       "  </thead>\n",
       "  <tbody>\n",
       "    <tr>\n",
       "      <th>1</th>\n",
       "      <td>1595</td>\n",
       "      <td>3</td>\n",
       "    </tr>\n",
       "    <tr>\n",
       "      <th>2</th>\n",
       "      <td>434</td>\n",
       "      <td>2</td>\n",
       "    </tr>\n",
       "    <tr>\n",
       "      <th>4</th>\n",
       "      <td>24</td>\n",
       "      <td>0</td>\n",
       "    </tr>\n",
       "    <tr>\n",
       "      <th>5</th>\n",
       "      <td>121</td>\n",
       "      <td>1</td>\n",
       "    </tr>\n",
       "    <tr>\n",
       "      <th>6</th>\n",
       "      <td>131</td>\n",
       "      <td>1</td>\n",
       "    </tr>\n",
       "    <tr>\n",
       "      <th>...</th>\n",
       "      <td>...</td>\n",
       "      <td>...</td>\n",
       "    </tr>\n",
       "    <tr>\n",
       "      <th>9781</th>\n",
       "      <td>198</td>\n",
       "      <td>1</td>\n",
       "    </tr>\n",
       "    <tr>\n",
       "      <th>9830</th>\n",
       "      <td>17</td>\n",
       "      <td>0</td>\n",
       "    </tr>\n",
       "    <tr>\n",
       "      <th>9868</th>\n",
       "      <td>31</td>\n",
       "      <td>0</td>\n",
       "    </tr>\n",
       "    <tr>\n",
       "      <th>9869</th>\n",
       "      <td>412</td>\n",
       "      <td>1</td>\n",
       "    </tr>\n",
       "    <tr>\n",
       "      <th>9870</th>\n",
       "      <td>82</td>\n",
       "      <td>0</td>\n",
       "    </tr>\n",
       "  </tbody>\n",
       "</table>\n",
       "<p>873 rows × 2 columns</p>\n",
       "</div>"
      ],
      "text/plain": [
       "HasClaim       0  1\n",
       "PostalCode         \n",
       "1           1595  3\n",
       "2            434  2\n",
       "4             24  0\n",
       "5            121  1\n",
       "6            131  1\n",
       "...          ... ..\n",
       "9781         198  1\n",
       "9830          17  0\n",
       "9868          31  0\n",
       "9869         412  1\n",
       "9870          82  0\n",
       "\n",
       "[873 rows x 2 columns]"
      ]
     },
     "execution_count": 35,
     "metadata": {},
     "output_type": "execute_result"
    }
   ],
   "source": [
    "zip_contingency_table"
   ]
  },
  {
   "cell_type": "markdown",
   "id": "a15dfbd2",
   "metadata": {},
   "source": [
    "### Welch’s t-test: Gender\n",
    "\n",
    "Split the data by gender, perform Welch’s t-test to compare claim amounts between males and females, and interpret the result."
   ]
  },
  {
   "cell_type": "code",
   "execution_count": 30,
   "id": "4ac8a3ea",
   "metadata": {},
   "outputs": [
    {
     "name": "stdout",
     "output_type": "stream",
     "text": [
      "Fail to reject H₀: No evidence of gender impact on claims.\n",
      "T-statistic: 0.800475929148579\n",
      "P-value: 0.42346922108852514\n"
     ]
    }
   ],
   "source": [
    "# Split data into male & femaile groups\n",
    "male_claims = df_sample[df_sample['Gender'] == 'Male']['TotalClaims']\n",
    "femaile_claims = df_sample[df_sample['Gender'] == 'Female']['TotalClaims']\n",
    "\n",
    "# Perform Welch's t-test (handles unequal variances)\n",
    "t_stat, gender_p = ttest_ind(male_claims, femaile_claims, equal_var=False)\n",
    "\n",
    "# Interpret the results\n",
    "if gender_p < 0.05:\n",
    "    print(\"Reject H₀: Gender significantly affects claim amounts.\")\n",
    "else:\n",
    "    print(\"Fail to reject H₀: No evidence of gender impact on claims.\")\n",
    "print(f\"T-statistic: {t_stat}\")\n",
    "print(f\"P-value: {gender_p}\")\n"
   ]
  },
  {
   "cell_type": "markdown",
   "id": "11be038b",
   "metadata": {},
   "source": [
    "### ANOVA: Vehicle Type\n",
    "\n",
    "Group the data by vehicle type, filter out groups with insufficient data, perform a one-way ANOVA to test for differences in claim amounts across vehicle types, and interpret the result."
   ]
  },
  {
   "cell_type": "code",
   "execution_count": 31,
   "id": "60227270",
   "metadata": {},
   "outputs": [
    {
     "name": "stdout",
     "output_type": "stream",
     "text": [
      "Fail to reject H₀: No significant impact.\n",
      "F-statistic: 0.6078443336309342\n",
      "P-value: 0.6569647496172851\n"
     ]
    }
   ],
   "source": [
    "# Group by VehicleType\n",
    "groups = [\n",
    "    group['TotalClaims']\n",
    "    for _, group in df_sample.groupby('VehicleType')\n",
    "    if len(group) >= 2\n",
    "]\n",
    "\n",
    "# Perform ANOVA test if enough groups remain\n",
    "if len(groups) >= 2:\n",
    "    f_stat, vehicle_p = f_oneway(*groups)\n",
    "    if vehicle_p < 0.05:\n",
    "        print(\"Reject H₀: Certain vehicle types have significantly different claim amounts.\")\n",
    "    else:\n",
    "        print(\"Fail to reject H₀: No significant impact.\")\n",
    "    print(f\"F-statistic: {f_stat}\")\n",
    "    print(f\"P-value: {vehicle_p}\")\n",
    "else:\n",
    "    print(\"Not enough groups with sufficient data for ANOVA.\")\n"
   ]
  },
  {
   "cell_type": "markdown",
   "id": "8c46472a",
   "metadata": {},
   "source": [
    "### Save Hypothesis Test Results\n",
    "\n",
    "Summarize the results of all hypothesis tests in a DataFrame and save them as a CSV report."
   ]
  },
  {
   "cell_type": "code",
   "execution_count": 34,
   "id": "bed219ef",
   "metadata": {},
   "outputs": [],
   "source": [
    "results = pd.DataFrame({\n",
    "    'Hypothesis': ['Province Risk Differences', 'Zip Code Risk Differences', 'Gender Risk Differences', 'Vehicle Type Differences'],\n",
    "    'P-Value': [prov_p, zip_p, gender_p, vehicle_p],\n",
    "    'Significance': ['Reject H₀' if p < 0.05 else 'Fail to Reject H₀' for p in [prov_p, zip_p, gender_p, vehicle_p]]\n",
    "})\n",
    "\n",
    "# Save results\n",
    "results.to_csv(\"../../reports/hypothesis_results.csv\", index=False)\n"
   ]
  }
 ],
 "metadata": {
  "kernelspec": {
   "display_name": ".venv",
   "language": "python",
   "name": "python3"
  },
  "language_info": {
   "codemirror_mode": {
    "name": "ipython",
    "version": 3
   },
   "file_extension": ".py",
   "mimetype": "text/x-python",
   "name": "python",
   "nbconvert_exporter": "python",
   "pygments_lexer": "ipython3",
   "version": "3.13.3"
  }
 },
 "nbformat": 4,
 "nbformat_minor": 5
}
